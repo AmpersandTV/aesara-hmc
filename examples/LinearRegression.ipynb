{
 "cells": [
  {
   "cell_type": "markdown",
   "id": "3c7f696c",
   "metadata": {},
   "source": [
    "# Getting started with Aehmc"
   ]
  },
  {
   "cell_type": "code",
   "execution_count": 1,
   "id": "75604510",
   "metadata": {},
   "outputs": [],
   "source": [
    "import time\n",
    "\n",
    "import arviz as az\n",
    "import numpy as np\n",
    "import pymc as pm\n",
    "\n",
    "import aesara\n",
    "import aesara.tensor as at\n",
    "from aesara.tensor.random.utils import RandomStream\n",
    "from aeppl.transforms import TransformValuesRewrite, LogTransform\n",
    "\n",
    "from aeppl import joint_logprob\n",
    "\n",
    "import aehmc.hmc as hmc\n",
    "import aehmc.nuts as nuts\n",
    "from aehmc.utils import RaveledParamsMap"
   ]
  },
  {
   "cell_type": "code",
   "execution_count": 2,
   "id": "4ce4ce35",
   "metadata": {},
   "outputs": [],
   "source": [
    "NUM_INTEGRATION_STEPS = 1024\n",
    "STEP_SIZE = 5e-5\n",
    "PATH_LENGTH = STEP_SIZE * NUM_INTEGRATION_STEPS\n",
    "\n",
    "NUM_SAMPLES = 1_000\n",
    "BURNIN = 100"
   ]
  },
  {
   "cell_type": "markdown",
   "id": "c754677e",
   "metadata": {},
   "source": [
    "## The model: a simple linear regression\n",
    "\n",
    "We consider a simple one-dimensional regression problem. To make it a little challenging, we create a dataset with 10,000 points:"
   ]
  },
  {
   "cell_type": "code",
   "execution_count": 3,
   "id": "eb721064",
   "metadata": {},
   "outputs": [],
   "source": [
    "rng = np.random.default_rng(0)\n",
    "X_val = rng.normal(0, 1, size=(10_000,))\n",
    "y_val = 3 * X_val + rng.normal(0,1)"
   ]
  },
  {
   "cell_type": "markdown",
   "id": "ed86150b",
   "metadata": {},
   "source": [
    "### PyMC implementation"
   ]
  },
  {
   "cell_type": "markdown",
   "id": "1ba29c2e",
   "metadata": {},
   "source": [
    "Let us first implement the model with PyMC"
   ]
  },
  {
   "cell_type": "code",
   "execution_count": 4,
   "id": "287315f9",
   "metadata": {},
   "outputs": [],
   "source": [
    "with pm.Model() as pymc_model:\n",
    "    weights = pm.Normal(\"weights\", mu=0, sigma=1)\n",
    "    noise = pm.Gamma(\"noise\", alpha=2, beta=1)\n",
    "    y_observed = pm.Normal(\n",
    "        \"y_observed\",\n",
    "        mu=X_val @ weights,\n",
    "        sigma=noise,\n",
    "        observed=y_val,\n",
    "    )"
   ]
  },
  {
   "cell_type": "markdown",
   "id": "1a6db4e6",
   "metadata": {},
   "source": [
    "### Aesara/AePPL implementation\n",
    "\n",
    "The previous model can be implemented in `Aesara` following:"
   ]
  },
  {
   "cell_type": "code",
   "execution_count": 5,
   "id": "c3d77c35",
   "metadata": {},
   "outputs": [],
   "source": [
    "import aesara.tensor as at\n",
    "\n",
    "X_at = at.as_tensor(X_val)\n",
    "\n",
    "srng = at.random.RandomStream(0)\n",
    "w_rv = srng.normal(0, 1.0)\n",
    "n_rv = srng.gamma(2.0, 1.0)\n",
    "Y_rv = srng.normal(X_at.dot(w_rv), n_rv)"
   ]
  },
  {
   "cell_type": "markdown",
   "id": "70c401c8",
   "metadata": {},
   "source": [
    "To use the HMC and NUTS sampler we need to build a graph that computes the model's joint log-probability distribution. We use `Aeppl`'s to do so. \n",
    "\n",
    "`AeHMC`'s samplers operate on flat arrays, we thus need to ravel parameters to pass them to the sampling algorithm,  and unravel them before the joint log-probability graph is constructed:"
   ]
  },
  {
   "cell_type": "code",
   "execution_count": 6,
   "id": "f6a61531",
   "metadata": {},
   "outputs": [],
   "source": [
    "# `aehmc` kernels take a vector as an input. We use a `RaveledParamsMap` to unravel this vector\n",
    "# and retrieve ta values for `w_rv` and `Y_rv`.\n",
    "rp_map = RaveledParamsMap((w_rv, n_rv))\n",
    "\n",
    "\n",
    "def aeppl_logprob(q):\n",
    "    unraveled_params = rp_map.unravel_params(q)\n",
    "    n_vv = unraveled_params[n_rv]\n",
    "    w_vv = unraveled_params[w_rv]\n",
    "    \n",
    "    # The gamma distribution's support is the positive real numbers; algorithms like HMC however prefer to work \n",
    "    # with parameters on the real line. We thus apply a log transform to `n_vv`. Batteries-included PPLs like \n",
    "    # PyMC3 apply this transform automatically.\n",
    "    transforms_op = TransformValuesRewrite({n_vv: LogTransform()})\n",
    "\n",
    "    logprob = joint_logprob({Y_rv: at.as_tensor(y_val), n_rv: n_vv, w_rv: w_vv}, extra_rewrites=transforms_op)\n",
    "    return logprob"
   ]
  },
  {
   "cell_type": "markdown",
   "id": "27dfdeb3",
   "metadata": {},
   "source": [
    "We can check that the loglikelihood returns the same values as the logpdf produced by PyMC3:"
   ]
  },
  {
   "cell_type": "code",
   "execution_count": 7,
   "id": "97d5859b",
   "metadata": {},
   "outputs": [
    {
     "name": "stdout",
     "output_type": "stream",
     "text": [
      "Log-probability with AeHMC: -32238.026021294307\n"
     ]
    }
   ],
   "source": [
    "q = at.vector('q')\n",
    "logprob_fn = aesara.function((q,), aeppl_logprob(q))\n",
    "logprob_aehmc = logprob_fn([3., np.log(10.)])\n",
    "print(f\"Log-probability with AeHMC: {logprob_aehmc}\")\n",
    "\n",
    "#logprob_pymc = pymc_model.joint_logp({'weights':3, 'noise_log__': np.log(10)})\n",
    "#print(f\"Log-probability with PyMC:  {logprob_pymc}\")"
   ]
  },
  {
   "cell_type": "markdown",
   "id": "b39d3c9c",
   "metadata": {},
   "source": [
    "## Sampling using the HMC algorithm"
   ]
  },
  {
   "cell_type": "markdown",
   "id": "0b543da1",
   "metadata": {},
   "source": [
    "### Using AeHMC"
   ]
  },
  {
   "cell_type": "markdown",
   "id": "3608ac18",
   "metadata": {},
   "source": [
    "The `hmc.new_kernel` function returns, given the parameters of the HMC algorithm (a random seed, the potential, the step size, inverse mass matrix and number of integration steps) returns a \"kernel\" which given a chain state returns a graph that computes the next chain state:"
   ]
  },
  {
   "cell_type": "markdown",
   "id": "f90cea00",
   "metadata": {},
   "source": [
    "#### How the kernel works"
   ]
  },
  {
   "cell_type": "code",
   "execution_count": 8,
   "id": "4d853e81",
   "metadata": {},
   "outputs": [],
   "source": [
    "srng = RandomStream(seed=0)\n",
    "inverse_mass_matrix = at.as_tensor(np.array([1., 1.]))\n",
    "kernel = hmc.new_kernel(srng, aeppl_logprob)"
   ]
  },
  {
   "cell_type": "markdown",
   "id": "c16ff6e5",
   "metadata": {},
   "source": [
    "Let us compile this graph into a function:"
   ]
  },
  {
   "cell_type": "code",
   "execution_count": 9,
   "id": "6729c9d3",
   "metadata": {},
   "outputs": [],
   "source": [
    "q = at.vector(\"q\")\n",
    "potential_energy = -aeppl_logprob(q)\n",
    "potential_energy_grad = aesara.grad(potential_energy, wrt=q)\n",
    "\n",
    "next_step, updates = kernel(\n",
    "    q,\n",
    "    potential_energy,\n",
    "    potential_energy_grad,\n",
    "    STEP_SIZE,\n",
    "    inverse_mass_matrix,\n",
    "    NUM_INTEGRATION_STEPS\n",
    ")\n",
    "kernel_fn = aesara.function((q,), next_step, updates=updates)"
   ]
  },
  {
   "cell_type": "markdown",
   "id": "c487759e",
   "metadata": {},
   "source": [
    "Let's run the kernel for one step:"
   ]
  },
  {
   "cell_type": "code",
   "execution_count": 10,
   "id": "34be0a4a",
   "metadata": {},
   "outputs": [
    {
     "data": {
      "text/plain": [
       "[array([ 2.99946192, -1.30494977]),\n",
       " array(12433.00653542),\n",
       " array([  -489.93218536, -22571.36970197]),\n",
       " array(1.),\n",
       " array(False)]"
      ]
     },
     "execution_count": 10,
     "metadata": {},
     "output_type": "execute_result"
    }
   ],
   "source": [
    "kernel_fn(np.array([3., np.log(.21)]))"
   ]
  },
  {
   "cell_type": "markdown",
   "id": "bc022190",
   "metadata": {},
   "source": [
    "#### Build the trajectory"
   ]
  },
  {
   "cell_type": "markdown",
   "id": "73c861fa",
   "metadata": {},
   "source": [
    "We can also build a graph that computes the entire trajectory given the initial position and a number of samples, using aesara `scan` construct:"
   ]
  },
  {
   "cell_type": "code",
   "execution_count": 11,
   "id": "865b2355",
   "metadata": {},
   "outputs": [],
   "source": [
    "q = at.vector(\"q\")\n",
    "potential_energy = -aeppl_logprob(q)\n",
    "potential_energy_grad = aesara.grad(potential_energy, wrt=q)\n",
    "\n",
    "srng = RandomStream(seed=0)\n",
    "step_size = at.scalar(\"step_size\")\n",
    "inverse_mass_matrix = at.vector(\"inverse_mass_matrix\")\n",
    "num_samples = at.scalar(\"num_samples\", dtype=\"int32\")\n",
    "num_integration_steps = at.scalar(\"num_integration_steps\", dtype=\"int32\")\n",
    "\n",
    "kernel = hmc.new_kernel(srng, aeppl_logprob)\n",
    "\n",
    "trajectory, updates = aesara.scan(\n",
    "    fn=kernel,\n",
    "    outputs_info=[\n",
    "        {\"initial\": q},\n",
    "        {\"initial\": potential_energy},\n",
    "        {\"initial\": potential_energy_grad},\n",
    "        None,\n",
    "        None,\n",
    "    ],\n",
    "    non_sequences=(step_size, inverse_mass_matrix, num_integration_steps),\n",
    "    n_steps=num_samples,\n",
    ")\n",
    "trajectory_generator = aesara.function(\n",
    "    (q, step_size, inverse_mass_matrix, num_integration_steps, num_samples),\n",
    "    trajectory,\n",
    "    updates=updates,\n",
    "    mode='FAST_RUN'\n",
    ")"
   ]
  },
  {
   "cell_type": "markdown",
   "id": "0b11562a",
   "metadata": {},
   "source": [
    "We can now compile the function that generates the chain and execute it:"
   ]
  },
  {
   "cell_type": "code",
   "execution_count": 12,
   "id": "bb7f49e7",
   "metadata": {},
   "outputs": [
    {
     "name": "stdout",
     "output_type": "stream",
     "text": [
      "CPU times: user 1min 6s, sys: 86.2 ms, total: 1min 6s\n",
      "Wall time: 1min 6s\n"
     ]
    }
   ],
   "source": [
    "%%time\n",
    "initial_position = np.array([3., np.log(0.5)])\n",
    "inverse_mass_matrix = np.array([1., 1.])\n",
    "position, *_ = trajectory_generator(initial_position, STEP_SIZE, inverse_mass_matrix, NUM_INTEGRATION_STEPS, NUM_SAMPLES)"
   ]
  },
  {
   "cell_type": "markdown",
   "id": "d2a503c0",
   "metadata": {},
   "source": [
    "Let us quickly check that the chain sampled correctly:"
   ]
  },
  {
   "cell_type": "code",
   "execution_count": 13,
   "id": "db1f3960",
   "metadata": {},
   "outputs": [
    {
     "data": {
      "image/png": "[encoded data removed]",
      "text/plain": [
       "<Figure size 864x288 with 4 Axes>"
      ]
     },
     "metadata": {
      "needs_background": "light"
     },
     "output_type": "display_data"
    }
   ],
   "source": [
    "aehmc_trace_aehmc_hmc = az.from_dict(posterior={\"W\": position[BURNIN:, 0], \"N\": np.exp(position[BURNIN:, 1])})\n",
    "az.plot_trace(aehmc_trace_aehmc_hmc);"
   ]
  },
  {
   "cell_type": "markdown",
   "id": "3dcda7a9",
   "metadata": {},
   "source": [
    "### Using PyMC"
   ]
  },
  {
   "cell_type": "markdown",
   "id": "251e1d92",
   "metadata": {},
   "source": [
    "Let us now compare the performance of AeHMC's HMC algorithm with that of PyMC's."
   ]
  },
  {
   "cell_type": "code",
   "execution_count": 14,
   "id": "376d69db",
   "metadata": {},
   "outputs": [
    {
     "name": "stderr",
     "output_type": "stream",
     "text": [
      "Sequential sampling (1 chains in 1 job)\n",
      "HamiltonianMC: [weights, noise]\n"
     ]
    },
    {
     "data": {
      "text/html": [
       "\n",
       "<style>\n",
       "    /* Turns off some styling */\n",
       "    progress {\n",
       "        /* gets rid of default border in Firefox and Opera. */\n",
       "        border: none;\n",
       "        /* Needs to be in here for Safari polyfill so background images work as expected. */\n",
       "        background-size: auto;\n",
       "    }\n",
       "    progress:not([value]), progress:not([value])::-webkit-progress-bar {\n",
       "        background: repeating-linear-gradient(45deg, #7e7e7e, #7e7e7e 10px, #5c5c5c 10px, #5c5c5c 20px);\n",
       "    }\n",
       "    .progress-bar-interrupted, .progress-bar-interrupted::-webkit-progress-bar {\n",
       "        background: #F44336;\n",
       "    }\n",
       "</style>\n"
      ],
      "text/plain": [
       "<IPython.core.display.HTML object>"
      ]
     },
     "metadata": {},
     "output_type": "display_data"
    },
    {
     "data": {
      "text/html": [
       "\n",
       "    <div>\n",
       "      <progress value='1000' class='' max='1000' style='width:300px; height:20px; vertical-align: middle;'></progress>\n",
       "      100.00% [1000/1000 01:35&lt;00:00 Sampling chain 0, 0 divergences]\n",
       "    </div>\n",
       "    "
      ],
      "text/plain": [
       "<IPython.core.display.HTML object>"
      ]
     },
     "metadata": {},
     "output_type": "display_data"
    },
    {
     "name": "stderr",
     "output_type": "stream",
     "text": [
      "Sampling 1 chain for 0 tune and 1_000 draw iterations (0 + 1_000 draws total) took 96 seconds.\n",
      "The acceptance probability does not match the target. It is 1, but should be close to 0.65. Try to increase the number of tuning steps.\n"
     ]
    },
    {
     "name": "stdout",
     "output_type": "stream",
     "text": [
      "PyMC took 95.76s to sample\n"
     ]
    }
   ],
   "source": [
    "with pymc_model:\n",
    "    step = pm.step_methods.hmc.hmc.HamiltonianMC(\n",
    "        [weights, noise],\n",
    "        path_length=PATH_LENGTH,\n",
    "        step_scale=STEP_SIZE,\n",
    "        adapt_step_size=False,\n",
    "    )\n",
    "    \n",
    "    # Set initial values\n",
    "    weights.tag.test_value = initial_position[0]\n",
    "    noise.tag.test_value = initial_position[1]\n",
    "    \n",
    "with pymc_model:\n",
    "    start = time.perf_counter()\n",
    "    posterior = pm.sample(\n",
    "        tune=0,\n",
    "        draws=NUM_SAMPLES,\n",
    "        step=[step],\n",
    "        chains=1,\n",
    "        cores=1,\n",
    "        return_inferencedata=False,\n",
    "        compute_convergence_checks=False\n",
    "    )\n",
    "    end = time.perf_counter()\n",
    "    print(f\"PyMC took {end - start:.2f}s to sample\")"
   ]
  },
  {
   "cell_type": "markdown",
   "id": "6b5e7f94",
   "metadata": {},
   "source": [
    "## Using the NUTS algorithm\n",
    "\n",
    "The NUTS algorithm is a variant of the HMC algorithm where the number of integration steps is set dynamically."
   ]
  },
  {
   "cell_type": "markdown",
   "id": "9ebc8e7e",
   "metadata": {},
   "source": [
    "### With AeHMC"
   ]
  },
  {
   "cell_type": "code",
   "execution_count": 15,
   "id": "3e580de6",
   "metadata": {},
   "outputs": [],
   "source": [
    "q = at.vector(\"q\")\n",
    "potential_energy = -aeppl_logprob(q)\n",
    "potential_energy_grad = aesara.grad(potential_energy, wrt=q)\n",
    "\n",
    "step_size = at.scalar(\"step_size\")\n",
    "inverse_mass_matrix = at.vector(\"inverse_mass_matrix\")\n",
    "\n",
    "srng = RandomStream(seed=0)\n",
    "kernel = nuts.new_kernel(srng, aeppl_logprob)\n",
    "\n",
    "num_samples = at.scalar('num_samples', dtype='int32')\n",
    "trajectory, updates = aesara.scan(\n",
    "    fn=kernel,\n",
    "    outputs_info=[\n",
    "        {\"initial\": q},\n",
    "        {\"initial\": potential_energy},\n",
    "        {\"initial\": potential_energy_grad},\n",
    "        None,\n",
    "        None,\n",
    "        None,\n",
    "        None,\n",
    "    ],\n",
    "    non_sequences=(step_size, inverse_mass_matrix),\n",
    "    n_steps=num_samples,\n",
    ")\n",
    "trajectory_generator = aesara.function(\n",
    "    (q, step_size, inverse_mass_matrix, num_samples),\n",
    "    trajectory,\n",
    "    updates=updates,\n",
    ")"
   ]
  },
  {
   "cell_type": "code",
   "execution_count": 16,
   "id": "58734e38",
   "metadata": {},
   "outputs": [
    {
     "name": "stdout",
     "output_type": "stream",
     "text": [
      "CPU times: user 4.44 s, sys: 26.2 ms, total: 4.47 s\n",
      "Wall time: 4.47 s\n"
     ]
    }
   ],
   "source": [
    "%%time\n",
    "\n",
    "# The following values for the parameters were obtained by running PyMC3's warmup\n",
    "inverse_mass_matrix = np.array([2.13e-05, 4.43e-05])\n",
    "step_size = 0.8\n",
    "\n",
    "initial_position = np.array([3., np.log(0.49)])\n",
    "position, *_ = trajectory_generator(initial_position, step_size, inverse_mass_matrix, NUM_SAMPLES)"
   ]
  },
  {
   "cell_type": "code",
   "execution_count": 17,
   "id": "a83c30b8",
   "metadata": {},
   "outputs": [
    {
     "data": {
      "image/png": "[encoded data removed]",
      "text/plain": [
       "<Figure size 864x288 with 4 Axes>"
      ]
     },
     "metadata": {
      "needs_background": "light"
     },
     "output_type": "display_data"
    }
   ],
   "source": [
    "aehmc_trace = az.from_dict(posterior={\"W\": position[BURNIN:, 0], \"N\": np.exp(position[BURNIN:, 1])})\n",
    "az.plot_trace(aehmc_trace);"
   ]
  },
  {
   "cell_type": "markdown",
   "id": "215f4d85",
   "metadata": {},
   "source": [
    "### With PyMC3\n",
    "\n",
    "We are now ready to compare the performance of `aehmc`'s HMC kernel to that of PyMC3."
   ]
  },
  {
   "cell_type": "code",
   "execution_count": 18,
   "id": "1568861d",
   "metadata": {},
   "outputs": [
    {
     "name": "stderr",
     "output_type": "stream",
     "text": [
      "Auto-assigning NUTS sampler...\n",
      "Initializing NUTS using jitter+adapt_diag...\n",
      "Sequential sampling (1 chains in 1 job)\n",
      "NUTS: [weights, noise]\n"
     ]
    },
    {
     "data": {
      "text/html": [
       "\n",
       "<style>\n",
       "    /* Turns off some styling */\n",
       "    progress {\n",
       "        /* gets rid of default border in Firefox and Opera. */\n",
       "        border: none;\n",
       "        /* Needs to be in here for Safari polyfill so background images work as expected. */\n",
       "        background-size: auto;\n",
       "    }\n",
       "    progress:not([value]), progress:not([value])::-webkit-progress-bar {\n",
       "        background: repeating-linear-gradient(45deg, #7e7e7e, #7e7e7e 10px, #5c5c5c 10px, #5c5c5c 20px);\n",
       "    }\n",
       "    .progress-bar-interrupted, .progress-bar-interrupted::-webkit-progress-bar {\n",
       "        background: #F44336;\n",
       "    }\n",
       "</style>\n"
      ],
      "text/plain": [
       "<IPython.core.display.HTML object>"
      ]
     },
     "metadata": {},
     "output_type": "display_data"
    },
    {
     "data": {
      "text/html": [
       "\n",
       "    <div>\n",
       "      <progress value='3000' class='' max='3000' style='width:300px; height:20px; vertical-align: middle;'></progress>\n",
       "      100.00% [3000/3000 00:01&lt;00:00 Sampling chain 0, 0 divergences]\n",
       "    </div>\n",
       "    "
      ],
      "text/plain": [
       "<IPython.core.display.HTML object>"
      ]
     },
     "metadata": {},
     "output_type": "display_data"
    },
    {
     "name": "stderr",
     "output_type": "stream",
     "text": [
      "Sampling 1 chain for 2_000 tune and 1_000 draw iterations (2_000 + 1_000 draws total) took 2 seconds.\n"
     ]
    },
    {
     "name": "stdout",
     "output_type": "stream",
     "text": [
      "Sampling with PyMC3 took 2.05s\n"
     ]
    }
   ],
   "source": [
    "with pymc_model:\n",
    "    step = pm.step_methods.hmc.NUTS(\n",
    "        [weights, noise],\n",
    "    )\n",
    "    \n",
    "with pymc_model:\n",
    "    start = time.perf_counter()\n",
    "    posterior = pm.sample(\n",
    "        tune=2000,\n",
    "        draws=NUM_SAMPLES,\n",
    "        step=[step],\n",
    "        chains=1,\n",
    "        cores=1,\n",
    "        return_inferencedata=False,\n",
    "        compute_convergence_checks=False\n",
    "    )\n",
    "    end = time.perf_counter()\n",
    "    print(f\"Sampling with PyMC3 took {end - start:.2f}s\")"
   ]
  }
 ],
 "metadata": {
  "kernelspec": {
   "display_name": "Python 3 (ipykernel)",
   "language": "python",
   "name": "python3"
  },
  "language_info": {
   "codemirror_mode": {
    "name": "ipython",
    "version": 3
   },
   "file_extension": ".py",
   "mimetype": "text/x-python",
   "name": "python",
   "nbconvert_exporter": "python",
   "pygments_lexer": "ipython3",
   "version": "3.10.6"
  }
 },
 "nbformat": 4,
 "nbformat_minor": 5
}
