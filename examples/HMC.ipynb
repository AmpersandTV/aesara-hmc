{
 "cells": [
  {
   "cell_type": "markdown",
   "id": "3c7f696c",
   "metadata": {},
   "source": [
    "# HMC"
   ]
  },
  {
   "cell_type": "code",
   "execution_count": 1,
   "id": "75604510",
   "metadata": {},
   "outputs": [
    {
     "name": "stderr",
     "output_type": "stream",
     "text": [
      "WARNING (theano.tensor.blas): Using NumPy C-API based implementation for BLAS functions.\n",
      "WARNING (aesara.tensor.blas): Using NumPy C-API based implementation for BLAS functions.\n"
     ]
    }
   ],
   "source": [
    "import numpy as np\n",
    "import pymc3 as pm\n",
    "\n",
    "import aesara\n",
    "import aesara.tensor as aet\n",
    "from aesara.tensor.random.utils import RandomStream\n",
    "from aeppl.transforms import TransformValuesOpt, LogTransform\n",
    "\n",
    "from aeppl import joint_logprob\n",
    "\n",
    "import aehmc.hmc as hmc\n",
    "from aehmc.utils import RaveledParamsMap"
   ]
  },
  {
   "cell_type": "code",
   "execution_count": 2,
   "id": "4ce4ce35",
   "metadata": {},
   "outputs": [],
   "source": [
    "NUM_INTEGRATION_STEPS = 1024\n",
    "STEP_SIZE = 5e-5\n",
    "PATH_LENGTH = STEP_SIZE * NUM_INTEGRATION_STEPS\n",
    "\n",
    "NUM_SAMPLES = 1_000\n",
    "BURNIN = 100"
   ]
  },
  {
   "cell_type": "markdown",
   "id": "c754677e",
   "metadata": {},
   "source": [
    "## The model: a simple linear regression\n",
    "\n",
    "We consider a simple one-dimensional regression problem. To make it a little challenging, we create a dataset with 10,000 points:"
   ]
  },
  {
   "cell_type": "code",
   "execution_count": 4,
   "id": "eb721064",
   "metadata": {},
   "outputs": [],
   "source": [
    "X_val = np.random.normal(0, 1, size=(10_000,))\n",
    "y_val = 3 * X_val + np.random.normal(0,1)"
   ]
  },
  {
   "cell_type": "markdown",
   "id": "ed86150b",
   "metadata": {},
   "source": [
    "### PyMC3 implementation"
   ]
  },
  {
   "cell_type": "code",
   "execution_count": 5,
   "id": "287315f9",
   "metadata": {},
   "outputs": [
    {
     "ename": "NameError",
     "evalue": "name 'X' is not defined",
     "output_type": "error",
     "traceback": [
      "\u001b[0;31m---------------------------------------------------------------------------\u001b[0m",
      "\u001b[0;31mNameError\u001b[0m                                 Traceback (most recent call last)",
      "\u001b[0;32m<ipython-input-5-84e2872db2e0>\u001b[0m in \u001b[0;36m<module>\u001b[0;34m\u001b[0m\n\u001b[1;32m      4\u001b[0m     y_observed = pm.Normal(\n\u001b[1;32m      5\u001b[0m         \u001b[0;34m\"y_observed\"\u001b[0m\u001b[0;34m,\u001b[0m\u001b[0;34m\u001b[0m\u001b[0;34m\u001b[0m\u001b[0m\n\u001b[0;32m----> 6\u001b[0;31m         \u001b[0mmu\u001b[0m\u001b[0;34m=\u001b[0m\u001b[0mX\u001b[0m \u001b[0;34m@\u001b[0m \u001b[0mweights\u001b[0m\u001b[0;34m,\u001b[0m\u001b[0;34m\u001b[0m\u001b[0;34m\u001b[0m\u001b[0m\n\u001b[0m\u001b[1;32m      7\u001b[0m         \u001b[0msigma\u001b[0m\u001b[0;34m=\u001b[0m\u001b[0mnoise\u001b[0m\u001b[0;34m,\u001b[0m\u001b[0;34m\u001b[0m\u001b[0;34m\u001b[0m\u001b[0m\n\u001b[1;32m      8\u001b[0m         \u001b[0mobserved\u001b[0m\u001b[0;34m=\u001b[0m\u001b[0my\u001b[0m\u001b[0;34m,\u001b[0m\u001b[0;34m\u001b[0m\u001b[0;34m\u001b[0m\u001b[0m\n",
      "\u001b[0;31mNameError\u001b[0m: name 'X' is not defined"
     ]
    }
   ],
   "source": [
    "with pm.Model() as pymc3_model:\n",
    "    weights = pm.Normal(\"weights\", mu=0, sigma=1)\n",
    "    noise = pm.Gamma(\"noise\", alpha=2, beta=1)\n",
    "    y_observed = pm.Normal(\n",
    "        \"y_observed\",\n",
    "        mu=X @ weights,\n",
    "        sigma=noise,\n",
    "        observed=y,\n",
    "    )"
   ]
  },
  {
   "cell_type": "markdown",
   "id": "1a6db4e6",
   "metadata": {},
   "source": [
    "### Aeppl implementation\n",
    "\n",
    "We can implement the posterior log-probability density function of this model directly using `aesara` and `aeppl`:"
   ]
  },
  {
   "cell_type": "code",
   "execution_count": 9,
   "id": "c3d77c35",
   "metadata": {},
   "outputs": [],
   "source": [
    "X_at = aet.as_tensor(X_val)\n",
    "\n",
    "N_rv = aet.random.gamma(2.0, 1.0, name=\"N\")\n",
    "W_rv = aet.random.normal(0, 1.0, name=\"W\")\n",
    "Y_rv = aet.random.normal(X_at.dot(W_rv), N_rv, name=\"Y\")\n",
    "\n",
    "\n",
    "# `aehmc` kernels take a vector as an input. We use a `RaveledParamsMap` to unravel this vector\n",
    "# and retrieve ta values for `W_rv` and `Y_rv`.\n",
    "rp_map = RaveledParamsMap((W_rv, N_rv))\n",
    "\n",
    "\n",
    "def aeppl_logprob(q):\n",
    "    uraveled_params = rp_map.unravel_params(q)\n",
    "    N_vv = uraveled_params[N_rv]\n",
    "    W_vv = uraveled_params[W_rv]\n",
    "    \n",
    "    # The gamma distribution's support is the positive real numbers; algorithms like HMC however prefer to \n",
    "    # with parameters on the real line. We thus apply a log transform to `N_vv`. PyMC3 applies this \n",
    "    # transform automatically.\n",
    "    transforms_op = TransformValuesOpt({N_vv: LogTransform()})\n",
    "\n",
    "    logprob = joint_logprob(Y_rv, {Y_rv: aet.as_tensor(y_val), N_rv: N_vv, W_rv: W_vv}, extra_rewrites=transforms_op)\n",
    "    return logprob"
   ]
  },
  {
   "cell_type": "code",
   "execution_count": 10,
   "id": "5f79145d",
   "metadata": {},
   "outputs": [
    {
     "data": {
      "text/plain": [
       "array(-32227.18839188)"
      ]
     },
     "execution_count": 10,
     "metadata": {},
     "output_type": "execute_result"
    }
   ],
   "source": [
    "q = aet.vector('q')\n",
    "\n",
    "logprob_fn = aesara.function((q,), aeppl_logprob(q))\n",
    "logprob_fn([3., np.log(10.)])"
   ]
  },
  {
   "cell_type": "markdown",
   "id": "27dfdeb3",
   "metadata": {},
   "source": [
    "We can check that the loglikelihood returns the same values as the logpdf produced by PyMC3:"
   ]
  },
  {
   "cell_type": "code",
   "execution_count": 11,
   "id": "97d5859b",
   "metadata": {},
   "outputs": [
    {
     "data": {
      "text/plain": [
       "array(-10.81376835)"
      ]
     },
     "execution_count": 11,
     "metadata": {},
     "output_type": "execute_result"
    }
   ],
   "source": [
    "pymc3_model.fastlogp({'weights':3, 'noise_log__': np.log(10)})"
   ]
  },
  {
   "cell_type": "markdown",
   "id": "b39d3c9c",
   "metadata": {},
   "source": [
    "## Sampling with aehmc"
   ]
  },
  {
   "cell_type": "markdown",
   "id": "0b543da1",
   "metadata": {},
   "source": [
    "### Build the HMC kernel"
   ]
  },
  {
   "cell_type": "markdown",
   "id": "3608ac18",
   "metadata": {},
   "source": [
    "The `hmc.kernel` function returns, given the parameters of the HMC algorithm (a random seed, the potential, the step size, inverse mass matrix and number of integration steps) returns a \"kernel\" which given a chain state returns a graph that computes the next chain state:"
   ]
  },
  {
   "cell_type": "code",
   "execution_count": 12,
   "id": "4d853e81",
   "metadata": {},
   "outputs": [],
   "source": [
    "srng = RandomStream(seed=1)\n",
    "inverse_mass_matrix = aet.as_tensor(np.array([1., 1.]))\n",
    "kernel = hmc.kernel(srng, aeppl_logprob, STEP_SIZE, inverse_mass_matrix, NUM_INTEGRATION_STEPS)"
   ]
  },
  {
   "cell_type": "markdown",
   "id": "c16ff6e5",
   "metadata": {},
   "source": [
    "Let us compile this graph into a function:"
   ]
  },
  {
   "cell_type": "code",
   "execution_count": 13,
   "id": "6729c9d3",
   "metadata": {},
   "outputs": [],
   "source": [
    "q = aet.vector(\"q\")\n",
    "potential_energy = -aeppl_logprob(q)\n",
    "potential_energy_grad = aesara.grad(potential_energy, wrt=q)\n",
    "\n",
    "next_step = kernel(q, potential_energy, potential_energy_grad)\n",
    "kernel_fn = aesara.function((q,), next_step)"
   ]
  },
  {
   "cell_type": "markdown",
   "id": "c487759e",
   "metadata": {},
   "source": [
    "Let's execute it for one position:"
   ]
  },
  {
   "cell_type": "code",
   "execution_count": 14,
   "id": "34be0a4a",
   "metadata": {},
   "outputs": [
    {
     "data": {
      "text/plain": [
       "[array([ 3.00280254, -1.64604608]),\n",
       " array(-4196.38241395),\n",
       " array([1703.66049661, 3868.43841482])]"
      ]
     },
     "execution_count": 14,
     "metadata": {},
     "output_type": "execute_result"
    }
   ],
   "source": [
    "kernel_fn(np.array([3., np.log(.21)]))"
   ]
  },
  {
   "cell_type": "markdown",
   "id": "bc022190",
   "metadata": {},
   "source": [
    "### Build the trajectory"
   ]
  },
  {
   "cell_type": "markdown",
   "id": "73c861fa",
   "metadata": {},
   "source": [
    "We can also build a graph that computes the entire trajectory given the initial position and a number of samples, using aesara `scan` construct:"
   ]
  },
  {
   "cell_type": "code",
   "execution_count": 15,
   "id": "865b2355",
   "metadata": {},
   "outputs": [],
   "source": [
    "def build_trajectory_generator(srng, kernel_generator, logprob_fn, num_samples):\n",
    "    \"\"\"Builds a function which, given an initial position, returns the full trajectory.\"\"\"\n",
    "    q = aet.vector(\"q\")\n",
    "    potential_energy = -logprob_fn(q)\n",
    "    potential_energy_grad = aesara.grad(potential_energy, wrt=q)\n",
    "\n",
    "    step_size = aet.scalar(\"step_size\")\n",
    "    inverse_mass_matrix = aet.vector(\"inverse_mass_matrix\")\n",
    "    num_integration_steps = aet.scalar(\"num_integration_steps\", dtype=\"int32\")\n",
    "\n",
    "    kernel = kernel_generator(\n",
    "        srng, logprob_fn, step_size, inverse_mass_matrix, num_integration_steps\n",
    "    )\n",
    "\n",
    "    trajectory, updates = aesara.scan(\n",
    "        fn=kernel,\n",
    "        outputs_info=[\n",
    "            {\"initial\": q},\n",
    "            {\"initial\": potential_energy},\n",
    "            {\"initial\": potential_energy_grad},\n",
    "        ],\n",
    "        n_steps=num_samples,\n",
    "    )\n",
    "    trajectory_generator = aesara.function(\n",
    "        (q, step_size, inverse_mass_matrix, num_integration_steps),\n",
    "        trajectory,\n",
    "        updates=updates,\n",
    "        mode='FAST_RUN'\n",
    "    )\n",
    "\n",
    "    return trajectory_generator"
   ]
  },
  {
   "cell_type": "markdown",
   "id": "0b11562a",
   "metadata": {},
   "source": [
    "We can now compile the function that generates the chain and execute it:"
   ]
  },
  {
   "cell_type": "code",
   "execution_count": 16,
   "id": "bb7f49e7",
   "metadata": {},
   "outputs": [
    {
     "name": "stdout",
     "output_type": "stream",
     "text": [
      "CPU times: user 47.3 s, sys: 39.5 ms, total: 47.4 s\n",
      "Wall time: 47.8 s\n"
     ]
    }
   ],
   "source": [
    "%%time\n",
    "trajectory_generator = build_trajectory_generator(\n",
    "    srng, hmc.kernel, aeppl_logprob, num_samples=NUM_SAMPLES\n",
    ")\n",
    "\n",
    "initial_position = np.array([3., np.log(1.5)])\n",
    "inverse_mass_matrix = np.array([1., 1.])\n",
    "position, *_ = trajectory_generator(initial_position, STEP_SIZE, inverse_mass_matrix, NUM_INTEGRATION_STEPS)"
   ]
  },
  {
   "cell_type": "markdown",
   "id": "d2a503c0",
   "metadata": {},
   "source": [
    "Let us quickly check that the chain sampled correctly:"
   ]
  },
  {
   "cell_type": "code",
   "execution_count": 17,
   "id": "db1f3960",
   "metadata": {},
   "outputs": [
    {
     "data": {
      "image/png": "[encoded data removed]",
      "text/plain": [
       "<Figure size 864x288 with 4 Axes>"
      ]
     },
     "metadata": {
      "needs_background": "light"
     },
     "output_type": "display_data"
    }
   ],
   "source": [
    "import arviz as az\n",
    "\n",
    "aehmc_trace = az.from_dict(posterior={\"W\": position[BURNIN:, 0], \"N\": np.exp(position[BURNIN:, 1])})\n",
    "az.plot_trace(aehmc_trace);"
   ]
  },
  {
   "cell_type": "markdown",
   "id": "215f4d85",
   "metadata": {},
   "source": [
    "## Sampling with PyMC3\n",
    "\n",
    "We are now ready to compare the performance of `aehmc`'s HMC kernel to that of PyMC3."
   ]
  },
  {
   "cell_type": "code",
   "execution_count": null,
   "id": "c02b9965",
   "metadata": {},
   "outputs": [],
   "source": [
    "import time \n",
    "\n",
    "with pymc3_model:\n",
    "    step = pm.step_methods.hmc.hmc.HamiltonianMC(\n",
    "        [weights, noise],\n",
    "        path_length=PATH_LENGTH,\n",
    "        step_scale=STEP_SIZE,\n",
    "        adapt_step_size=False,\n",
    "    )\n",
    "    \n",
    "    # Set initial values\n",
    "    weights.tag.test_value = initial_position[0]\n",
    "    noise.tag.test_value = initial_position[1]\n",
    "    \n",
    "with pymc3_model:\n",
    "    start = time.perf_counter()\n",
    "    posterior = pm.sample(\n",
    "        tune=0,\n",
    "        draws=NUM_SAMPLES,\n",
    "        step=[step],\n",
    "        chains=1,\n",
    "        cores=1,\n",
    "        return_inferencedata=False,\n",
    "        compute_convergence_checks=False\n",
    "    )\n",
    "    end = time.perf_counter()\n",
    "    print(end - start)"
   ]
  },
  {
   "cell_type": "code",
   "execution_count": null,
   "id": "ec971367",
   "metadata": {},
   "outputs": [],
   "source": [
    "posterior_trace = az.from_pymc3(posterior[BURNIN:], model=pymc3_model)\n",
    "az.plot_trace(posterior_trace);"
   ]
  }
 ],
 "metadata": {
  "kernelspec": {
   "display_name": "aehmc",
   "language": "python",
   "name": "aehmc"
  },
  "language_info": {
   "codemirror_mode": {
    "name": "ipython",
    "version": 3
   },
   "file_extension": ".py",
   "mimetype": "text/x-python",
   "name": "python",
   "nbconvert_exporter": "python",
   "pygments_lexer": "ipython3",
   "version": "3.9.6"
  }
 },
 "nbformat": 4,
 "nbformat_minor": 5
}
